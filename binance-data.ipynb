{
 "cells": [
  {
   "cell_type": "code",
   "execution_count": null,
   "metadata": {
    "collapsed": true
   },
   "outputs": [],
   "source": [
    "import datetime\n",
    "from binance.client import Client\n",
    "from binance.enums import HistoricalKlinesType\n",
    "import time\n",
    "import pandas as pd\n",
    "\n",
    "API_KEY = \"\"\n",
    "API_SECRET = \"\"\n",
    "\n",
    "\n",
    "def get_binance_data(api_key, pair, interval='1h', start='8 Sep 2023', end='17 Dec 2023'):\n",
    "    b_client = Client(api_key=api_key)\n",
    "    intervals = {\n",
    "        '15m': Client.KLINE_INTERVAL_15MINUTE,\n",
    "        '1h': Client.KLINE_INTERVAL_1HOUR,\n",
    "        '4h': Client.KLINE_INTERVAL_4HOUR,\n",
    "        '1d': Client.KLINE_INTERVAL_1DAY\n",
    "    }\n",
    "    interval = intervals.get(interval)\n",
    "    klines = b_client.get_historical_klines(symbol=pair, interval=interval, start_str=start, end_str=end,\n",
    "                                            klines_type=HistoricalKlinesType.FUTURES)\n",
    "    data = pd.DataFrame(klines)\n",
    "    data.columns = ['open_time', 'open', 'high', 'low', 'close', 'volume', 'close_time', 'qav', 'num_trades',\n",
    "                    'taker_base_vol', 'taker_quote_vol', 'ignore']\n",
    "    b_client.get_historical_trades()\n",
    "    data = data.astype('float')\n",
    "    return data\n",
    "\n",
    "\n",
    "# symbol = 'BTCUSDT'\n",
    "# btc = get_binance_data(API_KEY, symbol)\n",
    "# btc.to_csv('BTCUSDT-K-Line-2.csv', sep=',')\n",
    "# btc.head()\n",
    "\n",
    "\n",
    "client = Client(api_key=API_KEY)\n",
    "klines = client.get_historical_klines(symbol=\"BNBUSDT\", interval=Client.KLINE_INTERVAL_1HOUR, start_str=\"8 Sep, 2019\",\n",
    "                                      end_str=\"20 Dec, 2023\", klines_type=HistoricalKlinesType.FUTURES)\n",
    "data = pd.DataFrame(klines)\n",
    "data.columns = ['open_time', 'open', 'high', 'low', 'close', 'volume', 'close_time', 'qav', 'num_trades',\n",
    "                'taker_base_vol', 'taker_quote_vol', 'ignore']\n",
    "data = data.astype('float')\n",
    "data.to_csv('BNBUSDT-K-Line.csv', sep=',')"
   ]
  }
 ],
 "metadata": {
  "kernelspec": {
   "display_name": "Python 3",
   "language": "python",
   "name": "python3"
  },
  "language_info": {
   "codemirror_mode": {
    "name": "ipython",
    "version": 2
   },
   "file_extension": ".py",
   "mimetype": "text/x-python",
   "name": "python",
   "nbconvert_exporter": "python",
   "pygments_lexer": "ipython2",
   "version": "2.7.6"
  }
 },
 "nbformat": 4,
 "nbformat_minor": 0
}
