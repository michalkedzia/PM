{
 "cells": [
  {
   "cell_type": "code",
   "execution_count": null,
   "metadata": {
    "id": "cmSbx0d9dtqx"
   },
   "outputs": [],
   "source": [
    "import numpy as np\n",
    "import pandas as pd\n",
    "import pandas as pd\n",
    "import matplotlib.pyplot as plt\n",
    "\n",
    "# Field Name\t                    Description\n",
    "# *******************************************************************\n",
    "# open_time\t                           Kline Open time in unix time format\n",
    "# open\t                               Open Price\n",
    "# high\t                               High Price\n",
    "# low\t                               Low Price\n",
    "# close\t                               Close Price\n",
    "# volume\t                           Volume\n",
    "# close_time\t                       Kline Close time in unix time format\n",
    "# qav\t                               Quote Asset Volume\n",
    "# num_trades\t                       Number of Trades\n",
    "# taker_base_vol\t                   Taker buy base asset volume during this period\n",
    "# taker_quote_vol\t                   Taker buy quote asset volume during this period\n",
    "# ignore\t                           Ignore\n",
    "# *******************************************************************\n",
    "# create_time\t                       Create Time\n",
    "# symbol\t                           Symbol\n",
    "# sum_open_interest\t                   Total Open Interest (Base)\n",
    "# sum_open_interest_value\t           Total Open Interest Value\n",
    "# count_toptrader_long_short_ratio\t   Long/Short account num ratio of top traders\n",
    "# sum_toptrader_long_short_ratio\t   Long/Short position ratio of top traders\n",
    "# count_long_short_ratio\t           Long/Short account num ratio of all traders\n",
    "# sum_taker_long_short_vol_ratio\t   Taker total buy volume/ taker total sell volume\n",
    "# *******************************************************************\n",
    "# timestamp,\n",
    "# extracted_value,\n",
    "# query\n",
    "# Scale_extracted_value\n",
    "\n",
    "\n",
    "usecols = [\n",
    "    'open_time',\n",
    "    'open',\n",
    "    'high',\n",
    "    'low',\n",
    "    'close',\n",
    "    'volume',\n",
    "    'qav',\n",
    "    'num_trades',\n",
    "    'taker_base_vol',\n",
    "    'taker_quote_vol',\n",
    "    'sum_open_interest',\n",
    "    'sum_open_interest_value',\n",
    "    'count_long_short_ratio',\n",
    "    'Scale_extracted_value'\n",
    "]\n",
    "\n",
    "df = pd.read_csv('../data/ETH/ETH-merged-data.csv', usecols=usecols)"
   ]
  },
  {
   "cell_type": "code",
   "execution_count": null,
   "outputs": [],
   "source": [
    "df['open_time'] = pd.to_datetime(df['open_time'])\n",
    "fig, axs = plt.subplots(2, 1, figsize=(10, 8), sharex=True)\n",
    "\n",
    "axs[0].plot(df['open_time'], df['close'], label='Close Price', color='blue')\n",
    "axs[0].set_title('Close Price over Time')\n",
    "axs[0].set_ylabel('Close Price')\n",
    "axs[0].legend()\n",
    "axs[0].grid(True)\n",
    "\n",
    "axs[1].plot(df['open_time'], df['Scale_extracted_value'], label='Scale_extracted_value', color='green')\n",
    "axs[1].set_title('Val over Time')\n",
    "axs[1].set_xlabel('Open Time')\n",
    "axs[1].set_ylabel('Val')\n",
    "axs[1].legend()\n",
    "axs[1].grid(True)\n",
    "\n",
    "plt.tight_layout()\n",
    "\n",
    "plt.show()"
   ],
   "metadata": {
    "collapsed": false
   }
  }
 ],
 "metadata": {
  "colab": {
   "provenance": []
  },
  "kernelspec": {
   "display_name": "Python 3",
   "name": "python3"
  },
  "language_info": {
   "name": "python"
  }
 },
 "nbformat": 4,
 "nbformat_minor": 0
}
