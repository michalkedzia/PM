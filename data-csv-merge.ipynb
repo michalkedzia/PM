{
 "cells": [
  {
   "cell_type": "code",
   "execution_count": null,
   "metadata": {
    "collapsed": true
   },
   "outputs": [],
   "source": [
    "import os\n",
    "import pandas as pd\n",
    "\n",
    "def merge_csv_files(directory, output_file):\n",
    "    file_list = [file for file in os.listdir(directory) if file.endswith(\".csv\")]\n",
    "\n",
    "    with open(output_file, 'w') as output_csv:\n",
    "        for i, filename in enumerate(file_list):\n",
    "            print(filename)\n",
    "            with open(os.path.join(directory, filename), 'r') as input_csv:\n",
    "                if i == 0:\n",
    "                    for line in input_csv:\n",
    "                        output_csv.write(line)\n",
    "                else:\n",
    "                    next(input_csv)\n",
    "                    for line in input_csv:\n",
    "                        output_csv.write(line)\n",
    "\n",
    "\n",
    "merge_csv_files('../data/ETH/metrics', '../data/ETH/ETH-metrics-merged.csv')"
   ]
  },
  {
   "cell_type": "code",
   "execution_count": null,
   "outputs": [],
   "source": [
    "def remove_rows(input_file, output_file):\n",
    "    dff = pd.read_csv(input_file)\n",
    "    rows_to_remove = []\n",
    "    for index, row in dff.iterrows():\n",
    "        if pd.isnull(row['count_long_short_ratio']) and str(row['create_time']).endswith(':00:00'):\n",
    "            print(row['create_time'])\n",
    "\n",
    "        if pd.isnull(row['count_long_short_ratio']):\n",
    "            dff.loc[index, 'count_long_short_ratio'] = 1.0\n",
    "        if not str(row['create_time']).endswith(':00:00'):\n",
    "            rows_to_remove.append(index)\n",
    "\n",
    "    dff = dff.drop(rows_to_remove)\n",
    "\n",
    "    dff = dff.drop(dff.index[:1199])\n",
    "    dff.to_csv(output_file, index=False)\n",
    "\n",
    "remove_rows('../data/ETH/ETH-metrics-merged.csv', 'ETH-metrics-merged-minify.csv')"
   ],
   "metadata": {
    "collapsed": false
   }
  },
  {
   "cell_type": "code",
   "execution_count": null,
   "outputs": [],
   "source": [
    "df = pd.read_csv('../data/ETH/ETHUSDT-K-Line.csv')\n",
    "df = df.drop(df.columns[0], axis=1)\n",
    "df['open_time'] = pd.to_datetime(df['open_time'], unit='ms')\n",
    "df['close_time'] = pd.to_datetime(df['close_time'], unit='ms')\n",
    "\n",
    "df.to_csv(\"ETH-K-Line-formated.csv\", index=False)"
   ],
   "metadata": {
    "collapsed": false
   }
  },
  {
   "cell_type": "code",
   "execution_count": null,
   "outputs": [],
   "source": [
    "import pandas as pd\n",
    "file1 = '../data/BTC/BTCUSDT-K-Line-formated.csv'\n",
    "file2 = '../data/BTC/BTC-metrics-merged-minify-mean.csv'\n",
    "file3 = '../data/BTC/serpapi-BTC-data.csv'\n",
    "\n",
    "data1 = pd.read_csv(file1)\n",
    "data2 = pd.read_csv(file2)\n",
    "data3 = pd.read_csv(file3)\n",
    "\n",
    "\n",
    "merged_data = pd.merge(data1, data2, left_on='open_time', right_on='create_time', how='inner')\n",
    "merged_data = pd.merge(merged_data, data3, left_on='open_time', right_on='timestamp_serpapi', how='inner')\n",
    "\n",
    "merged_data.to_csv('BTC-merged-data.csv', index=False)"
   ],
   "metadata": {
    "collapsed": false
   }
  }
 ],
 "metadata": {
  "kernelspec": {
   "display_name": "Python 3",
   "language": "python",
   "name": "python3"
  },
  "language_info": {
   "codemirror_mode": {
    "name": "ipython",
    "version": 2
   },
   "file_extension": ".py",
   "mimetype": "text/x-python",
   "name": "python",
   "nbconvert_exporter": "python",
   "pygments_lexer": "ipython2",
   "version": "2.7.6"
  }
 },
 "nbformat": 4,
 "nbformat_minor": 0
}
