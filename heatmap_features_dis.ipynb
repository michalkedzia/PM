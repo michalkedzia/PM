{
 "cells": [
  {
   "cell_type": "code",
   "execution_count": null,
   "metadata": {
    "collapsed": true
   },
   "outputs": [],
   "source": [
    "import seaborn as sns\n",
    "import pandas as pd\n",
    "import ta\n",
    "import numpy as np\n",
    "import matplotlib.pyplot as plt\n"
   ]
  },
  {
   "cell_type": "code",
   "execution_count": null,
   "outputs": [],
   "source": [
    "def get_data(path, base_m=False, trade_metrics=False, trade_metrics_m=False, google=False, t=0, t_shift=0):\n",
    "    data_columns = ['open', 'high', 'low', 'close', 'volume', 'qav', 'num_trades', 'taker_base_vol', 'taker_quote_vol']\n",
    "    if trade_metrics:\n",
    "        data_columns += ['sum_open_interest', 'sum_open_interest_value', 'count_long_short_ratio']\n",
    "\n",
    "    if google:\n",
    "        data_columns += ['Scale_extracted_value']\n",
    "\n",
    "    df = pd.read_csv(path, usecols=data_columns)\n",
    "\n",
    "    return_col = 'return'\n",
    "    prev_close = 'prev_close'\n",
    "    close = 'close'\n",
    "    fillna = False\n",
    "    high = 'high'\n",
    "    volume = 'volume'\n",
    "    low = 'low'\n",
    "    sum_open_interest_value = 'sum_open_interest_value'\n",
    "\n",
    "    df[prev_close] = df['close'].shift(-t_shift)\n",
    "    df[return_col] = (df[prev_close] - df['open'])\n",
    "\n",
    "    if base_m:\n",
    "        data_columns += ['macd', 'sma', 'ema', 'wma', 'trix', 'adx', 'obv', 'adi', 'fi', 'mfi']\n",
    "        df['macd'] = ta.trend.macd(close=df[close], window_slow=t, fillna=fillna)\n",
    "        df['sma'] = ta.trend.sma_indicator(close=df[close], window=t, fillna=fillna)\n",
    "        df['ema'] = ta.trend.ema_indicator(close=df[close], window=t, fillna=fillna)\n",
    "        df['wma'] = ta.trend.wma_indicator(close=df[close], window=t, fillna=fillna)\n",
    "        df['trix'] = ta.trend.trix(close=df[close], window=t, fillna=fillna)\n",
    "        df['adx'] = ta.trend.adx(high=df[high], low=df[low], close=df[close], window=t, fillna=t)\n",
    "        df['obv'] = ta.volume.on_balance_volume(close=df[close], volume=df[volume], fillna=t)\n",
    "        df['adi'] = ta.volume.acc_dist_index(high=df[high], low=df[low], close=df[close], volume=df[volume], fillna=t)\n",
    "        df['fi'] = ta.volume.force_index(close=df[high], volume=df[volume], window=t, fillna=t)\n",
    "        df['mfi'] = ta.volume.money_flow_index(high=df[high], low=df[low], close=df[close], volume=df[volume], window=t,\n",
    "                                               fillna=fillna)\n",
    "        df['atr'] = ta.volatility.average_true_range(high=df[high], low=df[low], close=df[close], window=t,\n",
    "                                                     fillna=fillna)\n",
    "    if trade_metrics_m:\n",
    "        data_columns += ['tm_obv', 'tm_adi', 'tm_fi', 'tm_mfi']\n",
    "        df['tm_obv'] = ta.volume.on_balance_volume(close=df[close], volume=df[sum_open_interest_value],\n",
    "                                                   fillna=fillna)\n",
    "        df['tm_adi'] = ta.volume.acc_dist_index(high=df[high], low=df[low], close=df[close],\n",
    "                                                volume=df[sum_open_interest_value], fillna=fillna)\n",
    "        df['tm_fi'] = ta.volume.force_index(close=df[high], volume=df[sum_open_interest_value], window=t, fillna=fillna)\n",
    "        df['tm_mfi'] = ta.volume.money_flow_index(high=df[high], low=df[low], close=df[close],\n",
    "                                                  volume=df[sum_open_interest_value], window=t, fillna=fillna)\n",
    "    df = df.drop(columns=['return', 'prev_close'])\n",
    "    df.dropna(inplace=True)\n",
    "    return df"
   ],
   "metadata": {
    "collapsed": false
   }
  },
  {
   "cell_type": "markdown",
   "source": [],
   "metadata": {
    "collapsed": false
   }
  },
  {
   "cell_type": "code",
   "execution_count": null,
   "outputs": [],
   "source": [
    "df = get_data('../data/BTC/BTC-merged-data.csv',\n",
    "                     base_m=True, trade_metrics=True, trade_metrics_m=False, google=True, t=6, t_shift=4)\n",
    "df.describe()"
   ],
   "metadata": {
    "collapsed": false
   }
  },
  {
   "cell_type": "code",
   "execution_count": null,
   "outputs": [],
   "source": [
    "df = df.drop(['open', 'high', 'low', 'close' , 'taker_base_vol', 'taker_quote_vol', 'sma', 'wma', 'volume' , 'qav'], axis=1)\n",
    "correlation_matrix = df.corr()\n",
    "\n",
    "plt.figure(figsize=(20, 16))\n",
    "sns.heatmap(correlation_matrix, annot=True, cmap='coolwarm')\n",
    "plt.title('Correlation Matrix')\n",
    "plt.show()"
   ],
   "metadata": {
    "collapsed": false
   }
  },
  {
   "cell_type": "code",
   "execution_count": null,
   "outputs": [],
   "source": [
    "train_percent = 0.9\n",
    "validation_percent = 0.1\n",
    "\n",
    "T = 6\n",
    "T_shift = 6\n",
    "path_BTC = '../data/BTC/BTC-merged-data.csv'\n",
    "paths_ETH = '../data/ETH/ETH-merged-data.csv'\n",
    "path_BNB = '../data/BNB/BNB-merged-data.csv'\n",
    "path_DOG = '../data/DOGE/DOGE-merged-data.csv'\n",
    "\n",
    "columns_BTC, input_data_BTC, targets_BTC = get_data(path=path_BTC, base_m=True, trade_metrics=True,\n",
    "                                                    trade_metrics_m=False,\n",
    "                                                    google=False, t=T, t_shift=T_shift)\n",
    "\n",
    "columns_ETH, input_data_ETH, targets_ETH = get_data(path=paths_ETH, base_m=True, trade_metrics=True,\n",
    "                                                    trade_metrics_m=False,\n",
    "                                                    google=False, t=T, t_shift=T_shift)\n",
    "\n",
    "columns_BNB, input_data_BNB, targets_BNB = get_data(path=path_BNB, base_m=True, trade_metrics=True,\n",
    "                                                    trade_metrics_m=False,\n",
    "                                                    google=False, t=T, t_shift=T_shift)\n",
    "\n",
    "columns_DOG, input_data_DOG, targets_DOG = get_data(path=path_DOG, base_m=True, trade_metrics=True,\n",
    "                                                    trade_metrics_m=False,\n",
    "                                                    google=False, t=T, t_shift=T_shift)\n",
    "targets_BTC = (targets_BTC >= 0.0)\n",
    "targets_ETH = (targets_ETH >= 0.0)\n",
    "targets_BNB = (targets_BNB >= 0.0)\n",
    "targets_DOG = (targets_DOG >= 0.0)"
   ],
   "metadata": {
    "collapsed": false
   }
  },
  {
   "cell_type": "code",
   "execution_count": null,
   "outputs": [],
   "source": [
    "data1 = targets_BTC\n",
    "data2 = targets_ETH\n",
    "data3 = targets_BNB\n",
    "data4 = targets_DOG\n",
    "\n",
    "\n",
    "def plot_bar(ax, data, title):\n",
    "    true_count = np.sum(data)\n",
    "    false_count = len(data) - true_count\n",
    "\n",
    "    total_count = len(data)\n",
    "    true_percentage = (true_count / total_count) * 100\n",
    "    false_percentage = (false_count / total_count) * 100\n",
    "\n",
    "    labels = ['Long', 'Short']\n",
    "    counts = [true_count, false_count]\n",
    "    percentages = [true_percentage, false_percentage]\n",
    "\n",
    "    bars = ax.bar(labels, counts, color=['green', 'red'])\n",
    "\n",
    "    for bar, count, percentage in zip(bars, counts, percentages):\n",
    "        height = bar.get_height()\n",
    "        ax.text(bar.get_x() + bar.get_width() / 2, height,\n",
    "                f'{count} ({percentage:.2f}%)', ha='center', va='bottom')\n",
    "\n",
    "    ax.set_title(title)\n",
    "\n",
    "\n",
    "fig, axs = plt.subplots(2, 2, figsize=(14, 10))\n",
    "\n",
    "plot_bar(axs[0, 0], data1, 'Bitcoin')\n",
    "plot_bar(axs[0, 1], data2, 'Ethereum')\n",
    "plot_bar(axs[1, 0], data3, 'BNB')\n",
    "plot_bar(axs[1, 1], data4, 'Dogecoin')\n",
    "\n",
    "for ax in axs.flat:\n",
    "    ax.set_ylabel('Liczba rekordów')\n",
    "\n",
    "fig.suptitle('Rozkład klas w poszczególnych zbiorach', fontsize=16)\n",
    "plt.tight_layout(rect=[0, 0.03, 1, 0.95])\n",
    "plt.show()"
   ],
   "metadata": {
    "collapsed": false
   }
  }
 ],
 "metadata": {
  "kernelspec": {
   "display_name": "Python 3",
   "language": "python",
   "name": "python3"
  },
  "language_info": {
   "codemirror_mode": {
    "name": "ipython",
    "version": 2
   },
   "file_extension": ".py",
   "mimetype": "text/x-python",
   "name": "python",
   "nbconvert_exporter": "python",
   "pygments_lexer": "ipython2",
   "version": "2.7.6"
  }
 },
 "nbformat": 4,
 "nbformat_minor": 0
}
