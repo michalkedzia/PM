{
 "cells": [
  {
   "cell_type": "code",
   "execution_count": 31,
   "metadata": {
    "collapsed": true
   },
   "outputs": [],
   "source": [
    "import os\n",
    "import pandas as pd"
   ]
  },
  {
   "cell_type": "code",
   "execution_count": 35,
   "outputs": [],
   "source": [
    "def merge_csv_files(directory, output_file):\n",
    "    file_list = [file for file in os.listdir(directory) if file.endswith(\".csv\")]\n",
    "    file_list = sorted(file_list, key=lambda x: int(x.split('-')[0]))\n",
    "    fl = pd.DataFrame()\n",
    "\n",
    "    for i, filename in enumerate(file_list):\n",
    "        if i == 0:\n",
    "            fl = pd.read_csv(os.path.join(directory, filename))\n",
    "            fl = fl.drop(fl.index[-1])\n",
    "            fl = fl.drop(fl.columns[0], axis=1)\n",
    "        else:\n",
    "            df = pd.read_csv(os.path.join(directory, filename))\n",
    "            df = df.drop(df.index[-1])\n",
    "            df = df.drop(df.columns[0], axis=1)\n",
    "            fl = pd.concat([fl, df])\n",
    "\n",
    "    fl['timestamp'] = pd.to_datetime(fl['timestamp'], unit='s')\n",
    "    fl['timestamp'] = fl['timestamp'].dt.strftime('%Y-%m-%d %H:%M:%S')\n",
    "    fl.to_csv(output_file)\n",
    "\n",
    "\n",
    "merge_csv_files('../data/ETH/serpapi-data-ETH', 'serpapi-ETH')"
   ],
   "metadata": {
    "collapsed": false
   }
  }
 ],
 "metadata": {
  "kernelspec": {
   "display_name": "Python 3",
   "language": "python",
   "name": "python3"
  },
  "language_info": {
   "codemirror_mode": {
    "name": "ipython",
    "version": 2
   },
   "file_extension": ".py",
   "mimetype": "text/x-python",
   "name": "python",
   "nbconvert_exporter": "python",
   "pygments_lexer": "ipython2",
   "version": "2.7.6"
  }
 },
 "nbformat": 4,
 "nbformat_minor": 0
}
