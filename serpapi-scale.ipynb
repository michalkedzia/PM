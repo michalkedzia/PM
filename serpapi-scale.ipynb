{
 "cells": [
  {
   "cell_type": "code",
   "execution_count": null,
   "metadata": {
    "collapsed": true
   },
   "outputs": [],
   "source": [
    "import os\n",
    "import pandas as pd\n",
    "import numpy as np"
   ]
  },
  {
   "cell_type": "code",
   "execution_count": null,
   "outputs": [],
   "source": [
    "def to_df(directory):\n",
    "    file_list = [file for file in os.listdir(directory) if file.endswith(\".csv\")]\n",
    "    file_list = sorted(file_list, key=lambda x: int(x.split('-')[0]))\n",
    "    df = []\n",
    "\n",
    "    for i, filename in enumerate(file_list):\n",
    "        fl = pd.read_csv(os.path.join(directory, filename))\n",
    "        fl = fl.drop(fl.columns[0], axis=1)\n",
    "        fl['extracted_value_original'] = fl['extracted_value'].copy()\n",
    "        df.append(fl)\n",
    "    return df\n",
    "\n",
    "\n",
    "interest_list = to_df('data/BTC/serpapi-data-BTC')"
   ],
   "metadata": {
    "collapsed": false
   }
  },
  {
   "cell_type": "code",
   "execution_count": null,
   "outputs": [],
   "source": [
    "ratio_list = []\n",
    "keyword = 'extracted_value'\n",
    "\n",
    "for i in range(len(interest_list) - 1):\n",
    "    ratio = float(interest_list[i][keyword].iloc[-1]) / float(interest_list[i + 1][keyword].iloc[0])\n",
    "    ratio_list.append(ratio)\n",
    "    print(\"{} of {}: Ratio = {}, Scale 1st hour of week {} = {}, scale last hour of week {} = {}\" \\\n",
    "          .format(i + 1, len(interest_list) - 1, ratio_list[i],\n",
    "                  i + 1, float(interest_list[i + 1][keyword].iloc[0]),\n",
    "                  i, float(interest_list[i][keyword].iloc[-1]),\n",
    "                  )\n",
    "          )\n",
    "    interest_list[0][\"Scale_{}\".format(keyword)] = interest_list[0][keyword]\n",
    "    interest_list[i + 1][\"Scale_{}\".format(keyword)] = interest_list[i + 1][keyword].apply(\n",
    "        lambda x: x * ratio_list[i])\n",
    "    interest_list[i + 1][keyword] = interest_list[i + 1][\"Scale_{}\".format(keyword)]"
   ],
   "metadata": {
    "collapsed": false
   }
  },
  {
   "cell_type": "code",
   "execution_count": null,
   "outputs": [],
   "source": [
    "df = pd.concat(interest_list)"
   ],
   "metadata": {
    "collapsed": false
   }
  },
  {
   "cell_type": "code",
   "execution_count": null,
   "outputs": [],
   "source": [
    "max_interest = np.max(df[\"Scale_{}\".format(keyword)])\n",
    "df[\"Scale_{}\".format(keyword)]=df[\"Scale_{}\".format(keyword)]/max_interest*100"
   ],
   "metadata": {
    "collapsed": false
   }
  },
  {
   "cell_type": "code",
   "execution_count": null,
   "outputs": [],
   "source": [
    "df['timestamp_serpapi'] = pd.to_datetime(df['timestamp'], unit='s')"
   ],
   "metadata": {
    "collapsed": false
   }
  },
  {
   "cell_type": "code",
   "execution_count": null,
   "outputs": [],
   "source": [
    "df[['timestamp_serpapi', 'extracted_value_original', 'Scale_extracted_value']].to_csv('serpapi-BTC-data.csv', index=False)"
   ],
   "metadata": {
    "collapsed": false
   }
  },
  {
   "cell_type": "code",
   "execution_count": null,
   "outputs": [],
   "source": [
    "df.head(50)"
   ],
   "metadata": {
    "collapsed": false
   }
  },
  {
   "cell_type": "code",
   "execution_count": null,
   "outputs": [],
   "source": [
    "import matplotlib.pyplot as plt\n",
    "plt.plot(df['timestamp_serpapi'],df['Scale_extracted_value'] )"
   ],
   "metadata": {
    "collapsed": false
   }
  }
 ],
 "metadata": {
  "kernelspec": {
   "display_name": "Python 3",
   "language": "python",
   "name": "python3"
  },
  "language_info": {
   "codemirror_mode": {
    "name": "ipython",
    "version": 2
   },
   "file_extension": ".py",
   "mimetype": "text/x-python",
   "name": "python",
   "nbconvert_exporter": "python",
   "pygments_lexer": "ipython2",
   "version": "2.7.6"
  }
 },
 "nbformat": 4,
 "nbformat_minor": 0
}
