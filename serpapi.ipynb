{
 "cells": [
  {
   "cell_type": "code",
   "execution_count": null,
   "metadata": {
    "collapsed": true
   },
   "outputs": [],
   "source": [
    "from serpapi import GoogleSearch\n",
    "from datetime import datetime, timedelta\n",
    "import pandas as pd\n",
    "\n",
    "\n",
    "def generate_date_list(start_datetime, end_datetime):\n",
    "    date_list = []\n",
    "    current_date = start_datetime\n",
    "    while current_date < end_datetime:\n",
    "        end_date = min(current_date + timedelta(days=6), end_datetime)\n",
    "        date_list.append((current_date.strftime(\"%Y-%m-%dT%H\"), end_date.strftime(\"%Y-%m-%dT%H\")))\n",
    "        current_date = end_date\n",
    "    return date_list\n",
    "\n",
    "\n",
    "def saveSerpapiData(response, date_period):\n",
    "    data = []\n",
    "    for dd in response[\"interest_over_time\"][\"timeline_data\"]:\n",
    "        data.append({\"timestamp\": dd[\"timestamp\"], \"extracted_value\": dd[\"values\"][0][\"extracted_value\"],\n",
    "                     \"query\": dd[\"values\"][0][\"query\"]})\n",
    "    df = pd.DataFrame(data)\n",
    "    df.to_csv(\"./serpapidata/\" + date_period + \".csv\")"
   ]
  },
  {
   "cell_type": "code",
   "execution_count": null,
   "outputs": [],
   "source": [
    "start_datetime = datetime(2022, 1, 1)\n",
    "end_datetime = datetime(2024, 1, 13)\n",
    "\n",
    "date_list = generate_date_list(start_datetime, end_datetime)\n",
    "for i in range(len(date_list)):\n",
    "    period = date_list[i][0] + \" \" + date_list[i][1]\n",
    "    params = {\n",
    "        \"api_key\": \"\",\n",
    "        \"engine\": \"google_trends\",\n",
    "        \"q\": \"Dogecoin\",\n",
    "        \"tz\": \"0\",\n",
    "        \"date\": period\n",
    "    }\n",
    "    results = (GoogleSearch(params)).get_dict()\n",
    "    saveSerpapiData(results, str(i + 1) + \"-\" + period)"
   ],
   "metadata": {
    "collapsed": false
   }
  }
 ],
 "metadata": {
  "kernelspec": {
   "display_name": "Python 3",
   "language": "python",
   "name": "python3"
  },
  "language_info": {
   "codemirror_mode": {
    "name": "ipython",
    "version": 2
   },
   "file_extension": ".py",
   "mimetype": "text/x-python",
   "name": "python",
   "nbconvert_exporter": "python",
   "pygments_lexer": "ipython2",
   "version": "2.7.6"
  }
 },
 "nbformat": 4,
 "nbformat_minor": 0
}
